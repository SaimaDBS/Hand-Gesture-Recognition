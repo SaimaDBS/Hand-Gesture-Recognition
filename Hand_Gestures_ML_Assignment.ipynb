{
  "nbformat": 4,
  "nbformat_minor": 0,
  "metadata": {
    "colab": {
      "name": "Hand Gestures ML Assignment.ipynb",
      "provenance": [],
      "collapsed_sections": [
        "Uqy1LIzSGOHe"
      ]
    },
    "kernelspec": {
      "name": "python3",
      "display_name": "Python 3"
    },
    "language_info": {
      "name": "python"
    },
    "accelerator": "GPU"
  },
  "cells": [
    {
      "cell_type": "code",
      "source": [
        "# Downloading The Dataset From my Cloud\n",
        "!gdown 1CJFyiYDeWOXnCQKiere4pYJ7eedOILE7"
      ],
      "metadata": {
        "colab": {
          "base_uri": "https://localhost:8080/"
        },
        "id": "0Oqsp67sk2ps",
        "outputId": "92b0ba67-ac1d-42b4-96fb-49552518af8b"
      },
      "execution_count": null,
      "outputs": [
        {
          "output_type": "stream",
          "name": "stdout",
          "text": [
            "Downloading...\n",
            "From: https://drive.google.com/uc?id=1CJFyiYDeWOXnCQKiere4pYJ7eedOILE7\n",
            "To: /content/sign_mnist.csv\n",
            "100% 30.3M/30.3M [00:00<00:00, 121MB/s]\n"
          ]
        }
      ]
    },
    {
      "cell_type": "markdown",
      "source": [
        "**ML Hand Gesture Recognition Assignmnet.** \\\n",
        "- **In This Jupyter Notebook I Will Implement Different ML Classifier For Hand Gesture Recognition And Will Notedown Its Result and Will Compare Those Results In The Document.**"
      ],
      "metadata": {
        "id": "rQaxNP_7oqQo"
      }
    },
    {
      "cell_type": "code",
      "source": [
        "# Import the necessary libraries or standard libraries\n",
        "import numpy as np\n",
        "import pandas as pd\n",
        "import matplotlib.pyplot as plt\n",
        "import seaborn as sns"
      ],
      "metadata": {
        "id": "lrbbs-Jho1hQ"
      },
      "execution_count": null,
      "outputs": []
    },
    {
      "cell_type": "markdown",
      "source": [
        "#**Load Dataset**\n",
        "\n",
        "**Load the data from the csv file which contains label information at 0th column and remaining columns shows the pixel value at each 784 locations.**"
      ],
      "metadata": {
        "id": "sRd9dcCvrIYz"
      }
    },
    {
      "cell_type": "code",
      "source": [
        "# Read Data with pandas\n",
        "df = pd.read_csv('sign_mnist.csv')\n",
        "\n",
        "# Print first 5 rows of dataset using head\n",
        "df.head()"
      ],
      "metadata": {
        "colab": {
          "base_uri": "https://localhost:8080/",
          "height": 235
        },
        "id": "e-yDvS2xn4fI",
        "outputId": "3e067a7e-ec99-4799-b418-f18b76a351dd"
      },
      "execution_count": null,
      "outputs": [
        {
          "output_type": "execute_result",
          "data": {
            "text/plain": [
              "   label  pixel1  pixel2  pixel3  pixel4  pixel5  pixel6  pixel7  pixel8  \\\n",
              "0      3     107     118     127     134     139     143     146     150   \n",
              "1      6     155     157     156     156     156     157     156     158   \n",
              "2      2     187     188     188     187     187     186     187     188   \n",
              "3      2     211     211     212     212     211     210     211     210   \n",
              "4     13     164     167     170     172     176     179     180     184   \n",
              "\n",
              "   pixel9  ...  pixel775  pixel776  pixel777  pixel778  pixel779  pixel780  \\\n",
              "0     153  ...       207       207       207       207       206       206   \n",
              "1     158  ...        69       149       128        87        94       163   \n",
              "2     187  ...       202       201       200       199       198       199   \n",
              "3     210  ...       235       234       233       231       230       226   \n",
              "4     185  ...        92       105       105       108       133       163   \n",
              "\n",
              "   pixel781  pixel782  pixel783  pixel784  \n",
              "0       206       204       203       202  \n",
              "1       175       103       135       149  \n",
              "2       198       195       194       195  \n",
              "3       225       222       229       163  \n",
              "4       157       163       164       179  \n",
              "\n",
              "[5 rows x 785 columns]"
            ],
            "text/html": [
              "\n",
              "  <div id=\"df-13db9baa-92b0-4155-a678-80072f796957\">\n",
              "    <div class=\"colab-df-container\">\n",
              "      <div>\n",
              "<style scoped>\n",
              "    .dataframe tbody tr th:only-of-type {\n",
              "        vertical-align: middle;\n",
              "    }\n",
              "\n",
              "    .dataframe tbody tr th {\n",
              "        vertical-align: top;\n",
              "    }\n",
              "\n",
              "    .dataframe thead th {\n",
              "        text-align: right;\n",
              "    }\n",
              "</style>\n",
              "<table border=\"1\" class=\"dataframe\">\n",
              "  <thead>\n",
              "    <tr style=\"text-align: right;\">\n",
              "      <th></th>\n",
              "      <th>label</th>\n",
              "      <th>pixel1</th>\n",
              "      <th>pixel2</th>\n",
              "      <th>pixel3</th>\n",
              "      <th>pixel4</th>\n",
              "      <th>pixel5</th>\n",
              "      <th>pixel6</th>\n",
              "      <th>pixel7</th>\n",
              "      <th>pixel8</th>\n",
              "      <th>pixel9</th>\n",
              "      <th>...</th>\n",
              "      <th>pixel775</th>\n",
              "      <th>pixel776</th>\n",
              "      <th>pixel777</th>\n",
              "      <th>pixel778</th>\n",
              "      <th>pixel779</th>\n",
              "      <th>pixel780</th>\n",
              "      <th>pixel781</th>\n",
              "      <th>pixel782</th>\n",
              "      <th>pixel783</th>\n",
              "      <th>pixel784</th>\n",
              "    </tr>\n",
              "  </thead>\n",
              "  <tbody>\n",
              "    <tr>\n",
              "      <th>0</th>\n",
              "      <td>3</td>\n",
              "      <td>107</td>\n",
              "      <td>118</td>\n",
              "      <td>127</td>\n",
              "      <td>134</td>\n",
              "      <td>139</td>\n",
              "      <td>143</td>\n",
              "      <td>146</td>\n",
              "      <td>150</td>\n",
              "      <td>153</td>\n",
              "      <td>...</td>\n",
              "      <td>207</td>\n",
              "      <td>207</td>\n",
              "      <td>207</td>\n",
              "      <td>207</td>\n",
              "      <td>206</td>\n",
              "      <td>206</td>\n",
              "      <td>206</td>\n",
              "      <td>204</td>\n",
              "      <td>203</td>\n",
              "      <td>202</td>\n",
              "    </tr>\n",
              "    <tr>\n",
              "      <th>1</th>\n",
              "      <td>6</td>\n",
              "      <td>155</td>\n",
              "      <td>157</td>\n",
              "      <td>156</td>\n",
              "      <td>156</td>\n",
              "      <td>156</td>\n",
              "      <td>157</td>\n",
              "      <td>156</td>\n",
              "      <td>158</td>\n",
              "      <td>158</td>\n",
              "      <td>...</td>\n",
              "      <td>69</td>\n",
              "      <td>149</td>\n",
              "      <td>128</td>\n",
              "      <td>87</td>\n",
              "      <td>94</td>\n",
              "      <td>163</td>\n",
              "      <td>175</td>\n",
              "      <td>103</td>\n",
              "      <td>135</td>\n",
              "      <td>149</td>\n",
              "    </tr>\n",
              "    <tr>\n",
              "      <th>2</th>\n",
              "      <td>2</td>\n",
              "      <td>187</td>\n",
              "      <td>188</td>\n",
              "      <td>188</td>\n",
              "      <td>187</td>\n",
              "      <td>187</td>\n",
              "      <td>186</td>\n",
              "      <td>187</td>\n",
              "      <td>188</td>\n",
              "      <td>187</td>\n",
              "      <td>...</td>\n",
              "      <td>202</td>\n",
              "      <td>201</td>\n",
              "      <td>200</td>\n",
              "      <td>199</td>\n",
              "      <td>198</td>\n",
              "      <td>199</td>\n",
              "      <td>198</td>\n",
              "      <td>195</td>\n",
              "      <td>194</td>\n",
              "      <td>195</td>\n",
              "    </tr>\n",
              "    <tr>\n",
              "      <th>3</th>\n",
              "      <td>2</td>\n",
              "      <td>211</td>\n",
              "      <td>211</td>\n",
              "      <td>212</td>\n",
              "      <td>212</td>\n",
              "      <td>211</td>\n",
              "      <td>210</td>\n",
              "      <td>211</td>\n",
              "      <td>210</td>\n",
              "      <td>210</td>\n",
              "      <td>...</td>\n",
              "      <td>235</td>\n",
              "      <td>234</td>\n",
              "      <td>233</td>\n",
              "      <td>231</td>\n",
              "      <td>230</td>\n",
              "      <td>226</td>\n",
              "      <td>225</td>\n",
              "      <td>222</td>\n",
              "      <td>229</td>\n",
              "      <td>163</td>\n",
              "    </tr>\n",
              "    <tr>\n",
              "      <th>4</th>\n",
              "      <td>13</td>\n",
              "      <td>164</td>\n",
              "      <td>167</td>\n",
              "      <td>170</td>\n",
              "      <td>172</td>\n",
              "      <td>176</td>\n",
              "      <td>179</td>\n",
              "      <td>180</td>\n",
              "      <td>184</td>\n",
              "      <td>185</td>\n",
              "      <td>...</td>\n",
              "      <td>92</td>\n",
              "      <td>105</td>\n",
              "      <td>105</td>\n",
              "      <td>108</td>\n",
              "      <td>133</td>\n",
              "      <td>163</td>\n",
              "      <td>157</td>\n",
              "      <td>163</td>\n",
              "      <td>164</td>\n",
              "      <td>179</td>\n",
              "    </tr>\n",
              "  </tbody>\n",
              "</table>\n",
              "<p>5 rows × 785 columns</p>\n",
              "</div>\n",
              "      <button class=\"colab-df-convert\" onclick=\"convertToInteractive('df-13db9baa-92b0-4155-a678-80072f796957')\"\n",
              "              title=\"Convert this dataframe to an interactive table.\"\n",
              "              style=\"display:none;\">\n",
              "        \n",
              "  <svg xmlns=\"http://www.w3.org/2000/svg\" height=\"24px\"viewBox=\"0 0 24 24\"\n",
              "       width=\"24px\">\n",
              "    <path d=\"M0 0h24v24H0V0z\" fill=\"none\"/>\n",
              "    <path d=\"M18.56 5.44l.94 2.06.94-2.06 2.06-.94-2.06-.94-.94-2.06-.94 2.06-2.06.94zm-11 1L8.5 8.5l.94-2.06 2.06-.94-2.06-.94L8.5 2.5l-.94 2.06-2.06.94zm10 10l.94 2.06.94-2.06 2.06-.94-2.06-.94-.94-2.06-.94 2.06-2.06.94z\"/><path d=\"M17.41 7.96l-1.37-1.37c-.4-.4-.92-.59-1.43-.59-.52 0-1.04.2-1.43.59L10.3 9.45l-7.72 7.72c-.78.78-.78 2.05 0 2.83L4 21.41c.39.39.9.59 1.41.59.51 0 1.02-.2 1.41-.59l7.78-7.78 2.81-2.81c.8-.78.8-2.07 0-2.86zM5.41 20L4 18.59l7.72-7.72 1.47 1.35L5.41 20z\"/>\n",
              "  </svg>\n",
              "      </button>\n",
              "      \n",
              "  <style>\n",
              "    .colab-df-container {\n",
              "      display:flex;\n",
              "      flex-wrap:wrap;\n",
              "      gap: 12px;\n",
              "    }\n",
              "\n",
              "    .colab-df-convert {\n",
              "      background-color: #E8F0FE;\n",
              "      border: none;\n",
              "      border-radius: 50%;\n",
              "      cursor: pointer;\n",
              "      display: none;\n",
              "      fill: #1967D2;\n",
              "      height: 32px;\n",
              "      padding: 0 0 0 0;\n",
              "      width: 32px;\n",
              "    }\n",
              "\n",
              "    .colab-df-convert:hover {\n",
              "      background-color: #E2EBFA;\n",
              "      box-shadow: 0px 1px 2px rgba(60, 64, 67, 0.3), 0px 1px 3px 1px rgba(60, 64, 67, 0.15);\n",
              "      fill: #174EA6;\n",
              "    }\n",
              "\n",
              "    [theme=dark] .colab-df-convert {\n",
              "      background-color: #3B4455;\n",
              "      fill: #D2E3FC;\n",
              "    }\n",
              "\n",
              "    [theme=dark] .colab-df-convert:hover {\n",
              "      background-color: #434B5C;\n",
              "      box-shadow: 0px 1px 3px 1px rgba(0, 0, 0, 0.15);\n",
              "      filter: drop-shadow(0px 1px 2px rgba(0, 0, 0, 0.3));\n",
              "      fill: #FFFFFF;\n",
              "    }\n",
              "  </style>\n",
              "\n",
              "      <script>\n",
              "        const buttonEl =\n",
              "          document.querySelector('#df-13db9baa-92b0-4155-a678-80072f796957 button.colab-df-convert');\n",
              "        buttonEl.style.display =\n",
              "          google.colab.kernel.accessAllowed ? 'block' : 'none';\n",
              "\n",
              "        async function convertToInteractive(key) {\n",
              "          const element = document.querySelector('#df-13db9baa-92b0-4155-a678-80072f796957');\n",
              "          const dataTable =\n",
              "            await google.colab.kernel.invokeFunction('convertToInteractive',\n",
              "                                                     [key], {});\n",
              "          if (!dataTable) return;\n",
              "\n",
              "          const docLinkHtml = 'Like what you see? Visit the ' +\n",
              "            '<a target=\"_blank\" href=https://colab.research.google.com/notebooks/data_table.ipynb>data table notebook</a>'\n",
              "            + ' to learn more about interactive tables.';\n",
              "          element.innerHTML = '';\n",
              "          dataTable['output_type'] = 'display_data';\n",
              "          await google.colab.output.renderOutput(dataTable, element);\n",
              "          const docLink = document.createElement('div');\n",
              "          docLink.innerHTML = docLinkHtml;\n",
              "          element.appendChild(docLink);\n",
              "        }\n",
              "      </script>\n",
              "    </div>\n",
              "  </div>\n",
              "  "
            ]
          },
          "metadata": {},
          "execution_count": 3
        }
      ]
    },
    {
      "cell_type": "code",
      "source": [
        "df.info()"
      ],
      "metadata": {
        "id": "KeJdloB3oTw6",
        "colab": {
          "base_uri": "https://localhost:8080/"
        },
        "outputId": "bf653cfb-3bee-4ae9-bec9-fe2286b4e15c"
      },
      "execution_count": null,
      "outputs": [
        {
          "output_type": "stream",
          "name": "stdout",
          "text": [
            "<class 'pandas.core.frame.DataFrame'>\n",
            "RangeIndex: 10000 entries, 0 to 9999\n",
            "Columns: 785 entries, label to pixel784\n",
            "dtypes: int64(785)\n",
            "memory usage: 59.9 MB\n"
          ]
        }
      ]
    },
    {
      "cell_type": "code",
      "source": [
        "df.shape"
      ],
      "metadata": {
        "colab": {
          "base_uri": "https://localhost:8080/"
        },
        "id": "iFVTGpGFIUn9",
        "outputId": "81cc2397-4961-4886-ec56-ecb77acf66f1"
      },
      "execution_count": null,
      "outputs": [
        {
          "output_type": "execute_result",
          "data": {
            "text/plain": [
              "(10000, 785)"
            ]
          },
          "metadata": {},
          "execution_count": 5
        }
      ]
    },
    {
      "cell_type": "code",
      "source": [
        "df.isnull().sum().sum()"
      ],
      "metadata": {
        "id": "MEk8_rrY9NmX",
        "outputId": "ba021cf7-0cc4-4acd-8924-b84137ca9e1e",
        "colab": {
          "base_uri": "https://localhost:8080/"
        }
      },
      "execution_count": null,
      "outputs": [
        {
          "output_type": "execute_result",
          "data": {
            "text/plain": [
              "0"
            ]
          },
          "metadata": {},
          "execution_count": 6
        }
      ]
    },
    {
      "cell_type": "markdown",
      "source": [
        "## **1. CNN Model For Hand Gesture Sign Language Recognition**\n",
        "---"
      ],
      "metadata": {
        "id": "Uqy1LIzSGOHe"
      }
    },
    {
      "cell_type": "code",
      "source": [
        "# Google Colab offered several helpful python packages to load in, Import all the Required Libraries For CNN\n",
        "%matplotlib inline\n",
        "import matplotlib.pyplot as plt\n",
        "from keras.utils.np_utils import to_categorical\n",
        "from keras import backend as K\n",
        "from keras.layers import Dense, Dropout,Flatten\n",
        "from keras.layers.convolutional import Conv2D, MaxPooling2D\n",
        "from keras.models import Sequential\n",
        "from keras.layers import Dropout\n",
        "from keras.layers.core import Activation\n"
      ],
      "metadata": {
        "id": "zlEUyojfGsOw"
      },
      "execution_count": null,
      "outputs": []
    },
    {
      "cell_type": "markdown",
      "source": [
        "**1. In order to feed the model first I have obtained the training data from dataset and load the labels.**\\\n",
        "**2. Use to_categorical to convert the labels into one-hot encoding.**"
      ],
      "metadata": {
        "id": "yDjNE9_8IrEW"
      }
    },
    {
      "cell_type": "code",
      "source": [
        "# Select The Response and Predictor Variables\n",
        "train=df.drop(['label'], axis = 1) # Features\n",
        "train = train.values\n",
        "labels = df['label'] # Labels\n",
        "labels = to_categorical(labels)\n",
        "# Take a sample and plot it\n",
        "sample = train[40]\n",
        "# Reshape the array as 28 by 28 because the array size is 784\n",
        "plt.imshow(sample.reshape((28,28)),cmap = plt.get_cmap('gray'))"
      ],
      "metadata": {
        "colab": {
          "base_uri": "https://localhost:8080/"
        },
        "id": "6tFeFLIuHvRQ",
        "outputId": "08746c7c-2220-4e92-f3dd-a43dd829063a"
      },
      "execution_count": null,
      "outputs": [
        {
          "output_type": "execute_result",
          "data": {
            "text/plain": [
              "<matplotlib.image.AxesImage at 0x7f783beff550>"
            ]
          },
          "metadata": {},
          "execution_count": 8
        },
        {
          "output_type": "display_data",
          "data": {
            "text/plain": [
              "<Figure size 432x288 with 1 Axes>"
            ],
            "image/png": "[encoded data removed]"
          },
          "metadata": {
            "needs_background": "light"
          }
        }
      ]
    },
    {
      "cell_type": "code",
      "source": [
        "# get some random index from the train data\n",
        "random_index = np.random.choice(range(len(train)),12)\n",
        "# show the 12 random images \n",
        "plt.figure(figsize=(10,10))\n",
        "plt.title(\"Some Random Training Images\")\n",
        "for i in range(8):\n",
        "    plt.subplot(3,4,i+1)\n",
        "    plt.imshow(train[random_index[i]].reshape(28,28),cmap=plt.get_cmap(\"gray\"))\n",
        "    plt.axis(\"off\")\n",
        "plt.tight_layout()\n",
        "plt.show()"
      ],
      "metadata": {
        "colab": {
          "base_uri": "https://localhost:8080/"
        },
        "id": "utUuf_Lvm2T-",
        "outputId": "fda3df42-2a42-4306-f821-e34093d6cd36"
      },
      "execution_count": null,
      "outputs": [
        {
          "output_type": "display_data",
          "data": {
            "text/plain": [
              "<Figure size 720x720 with 8 Axes>"
            ],
            "image/png": "[encoded data removed]"
          },
          "metadata": {
            "needs_background": "light"
          }
        }
      ]
    },
    {
      "cell_type": "markdown",
      "source": [
        "**Prepare Training and Testing Dataset**"
      ],
      "metadata": {
        "id": "C8LaX58nOf6K"
      }
    },
    {
      "cell_type": "code",
      "source": [
        "print(train.shape,labels.shape)"
      ],
      "metadata": {
        "colab": {
          "base_uri": "https://localhost:8080/"
        },
        "id": "9xiTzDrQJXu3",
        "outputId": "c0a20cf8-ef02-4f79-e08d-9f06ed49df3a"
      },
      "execution_count": null,
      "outputs": [
        {
          "output_type": "stream",
          "name": "stdout",
          "text": [
            "(10000, 784) (10000, 25)\n"
          ]
        }
      ]
    },
    {
      "cell_type": "code",
      "source": [
        "# Normalize the dataset\n",
        "train=train/255\n",
        "train=train.reshape((10000,28,28,1))\n",
        "plt.imshow(train[40].reshape((28,28)))\n",
        "print(train.shape,labels.shape)\n"
      ],
      "metadata": {
        "colab": {
          "base_uri": "https://localhost:8080/"
        },
        "id": "vZTSYJt9O6vT",
        "outputId": "40e27810-67bd-4151-ef9d-eacb44faaa8b"
      },
      "execution_count": null,
      "outputs": [
        {
          "output_type": "stream",
          "name": "stdout",
          "text": [
            "(10000, 28, 28, 1) (10000, 25)\n"
          ]
        },
        {
          "output_type": "display_data",
          "data": {
            "text/plain": [
              "<Figure size 432x288 with 1 Axes>"
            ],
            "image/png": "[encoded data removed]"
          },
          "metadata": {
            "needs_background": "light"
          }
        }
      ]
    },
    {
      "cell_type": "markdown",
      "source": [
        "**Below Is The Neural Network Model:** \\\n",
        "* I make use of Convolutional Neural Network(CNN) as my first classifier. Initial \n",
        "layer requires the input shape for each row of our training data which is of the shape (28,28,1) and final layer outputs a 25 dimension output."
      ],
      "metadata": {
        "id": "dvV2yb7JiSPt"
      }
    },
    {
      "cell_type": "code",
      "source": [
        "epochs = 10\n",
        "batch_size = 32"
      ],
      "metadata": {
        "id": "Eamsx9c1i-A1"
      },
      "execution_count": null,
      "outputs": []
    },
    {
      "cell_type": "code",
      "source": [
        "# Here is the building and training of CNN\n",
        "model = Sequential()\n",
        "model.add(Conv2D(filters = 32,kernel_size = (3,3),input_shape = (28,28,1),activation = 'relu',padding = 'same'))\n",
        "model.add(MaxPooling2D((2,2)))\n",
        "model.add(Conv2D(filters = 64,kernel_size = (3,3),padding = 'same',activation = 'relu'))\n",
        "model.add(MaxPooling2D(2,2))\n",
        "model.add(Conv2D(64,kernel_size = (3,3),padding = 'same',activation = 'relu'))\n",
        "model.add(Flatten())\n",
        "model.add(Dense(64,activation = 'relu'))\n",
        "model.add(Dense(25,activation = 'softmax'))\n",
        "model.compile(optimizer='adam', loss='categorical_crossentropy', metrics=['accuracy'])\n",
        "cnn_classifier=model.fit(train, labels, validation_split=0.3, epochs=epochs,batch_size=batch_size)"
      ],
      "metadata": {
        "colab": {
          "base_uri": "https://localhost:8080/"
        },
        "id": "sU8qFArIhbpp",
        "outputId": "b50f977b-7dac-4f4c-83a0-04eeeb164e1a"
      },
      "execution_count": null,
      "outputs": [
        {
          "output_type": "stream",
          "name": "stdout",
          "text": [
            "Epoch 1/10\n",
            "219/219 [==============================] - 15s 7ms/step - loss: 2.3982 - accuracy: 0.2807 - val_loss: 1.1859 - val_accuracy: 0.6210\n",
            "Epoch 2/10\n",
            "219/219 [==============================] - 1s 5ms/step - loss: 0.7050 - accuracy: 0.7650 - val_loss: 0.3955 - val_accuracy: 0.8657\n",
            "Epoch 3/10\n",
            "219/219 [==============================] - 1s 5ms/step - loss: 0.2741 - accuracy: 0.9119 - val_loss: 0.1467 - val_accuracy: 0.9567\n",
            "Epoch 4/10\n",
            "219/219 [==============================] - 1s 5ms/step - loss: 0.1033 - accuracy: 0.9706 - val_loss: 0.0665 - val_accuracy: 0.9827\n",
            "Epoch 5/10\n",
            "219/219 [==============================] - 1s 5ms/step - loss: 0.0662 - accuracy: 0.9811 - val_loss: 0.0368 - val_accuracy: 0.9930\n",
            "Epoch 6/10\n",
            "219/219 [==============================] - 1s 5ms/step - loss: 0.0184 - accuracy: 0.9977 - val_loss: 0.0210 - val_accuracy: 0.9957\n",
            "Epoch 7/10\n",
            "219/219 [==============================] - 1s 5ms/step - loss: 0.0082 - accuracy: 0.9989 - val_loss: 0.0076 - val_accuracy: 0.9990\n",
            "Epoch 8/10\n",
            "219/219 [==============================] - 1s 5ms/step - loss: 0.0038 - accuracy: 1.0000 - val_loss: 0.0065 - val_accuracy: 0.9987\n",
            "Epoch 9/10\n",
            "219/219 [==============================] - 1s 5ms/step - loss: 0.0021 - accuracy: 1.0000 - val_loss: 0.0036 - val_accuracy: 0.9997\n",
            "Epoch 10/10\n",
            "219/219 [==============================] - 1s 5ms/step - loss: 0.0026 - accuracy: 0.9997 - val_loss: 0.1115 - val_accuracy: 0.9700\n"
          ]
        }
      ]
    },
    {
      "cell_type": "code",
      "source": [
        "#Plot the model accuracy and the loss\n",
        "plt.plot(cnn_classifier.history['accuracy'])\n",
        "plt.plot(cnn_classifier.history['val_accuracy'])\n",
        "plt.title('Model accuracy')\n",
        "plt.show()\n",
        "\n",
        "plt.plot(cnn_classifier.history['loss'])\n",
        "plt.plot(cnn_classifier.history['val_loss'])\n",
        "plt.title('Model Loss')\n",
        "plt.show()"
      ],
      "metadata": {
        "colab": {
          "base_uri": "https://localhost:8080/"
        },
        "id": "wPsS71V4iupx",
        "outputId": "14aa4213-d0bb-4906-f2ff-8fa7dafe72d0"
      },
      "execution_count": null,
      "outputs": [
        {
          "output_type": "display_data",
          "data": {
            "text/plain": [
              "<Figure size 432x288 with 1 Axes>"
            ],
            "image/png": "[encoded data removed]"
          },
          "metadata": {
            "needs_background": "light"
          }
        },
        {
          "output_type": "display_data",
          "data": {
            "text/plain": [
              "<Figure size 432x288 with 1 Axes>"
            ],
            "image/png": "[encoded data removed]"
          },
          "metadata": {
            "needs_background": "light"
          }
        }
      ]
    },
    {
      "cell_type": "markdown",
      "source": [
        "**Testing**\n",
        "* For testing I first take a sample from the traning data which in our case is from 4th location which has a label 13 and then need to prepare the data to make it suitable for our model to predict."
      ],
      "metadata": {
        "id": "lo6Yicw1mbFS"
      }
    },
    {
      "cell_type": "code",
      "source": [
        "labels_letter = {0:'A',1:'B',2:'C', 3:'D', 4:'E', 5:'F', 6:'G', 7:'H',8:'I',9:'J',10:'K', 11:'L', 12:'M',13:'N',\n",
        "                 14:'O',15:'P',16:'Q',17:'R',18:'S',19:'T',20:'U',21:'V',22:'W',23:'X',24:'Y',25:'Z'}"
      ],
      "metadata": {
        "id": "EwZzDZr3Da23"
      },
      "execution_count": null,
      "outputs": []
    },
    {
      "cell_type": "code",
      "source": [
        "sample = train[20]\n",
        "plt.imshow(sample.reshape((28,28)))\n",
        "letter_index=labels[20]\n",
        "print(f'Actual Label Index Of Sample Image Is:{list(letter_index).index(1)}')\n",
        "print(f'English Letter Of Sample Image Is: {labels_letter[list(letter_index).index(1)]}')"
      ],
      "metadata": {
        "colab": {
          "base_uri": "https://localhost:8080/"
        },
        "id": "5NbZN8DXjyWa",
        "outputId": "4d88f470-aa3c-401d-a971-48d7620733f6"
      },
      "execution_count": null,
      "outputs": [
        {
          "output_type": "stream",
          "name": "stdout",
          "text": [
            "Actual Label Index Of Sample Image Is:18\n",
            "English Letter Of Sample Image Is: S\n"
          ]
        },
        {
          "output_type": "display_data",
          "data": {
            "text/plain": [
              "<Figure size 432x288 with 1 Axes>"
            ],
            "image/png": "[encoded data removed]"
          },
          "metadata": {
            "needs_background": "light"
          }
        }
      ]
    },
    {
      "cell_type": "markdown",
      "source": [
        "* Convert the given image to (1,28,28,1) shape ,normalize it and give it to the model. Find the index of the largest probablitiy from the given set of predictions."
      ],
      "metadata": {
        "id": "iIsRrRaTmzsv"
      }
    },
    {
      "cell_type": "code",
      "source": [
        "sample=sample.reshape((1,28,28,1))\n",
        "res=model.predict(sample)\n",
        "res=list(res[0])\n",
        "mx=max(res)\n",
        "print(f'Predicted Label Index Of Sample Image Is:{res.index(mx)}')\n",
        "print(f'Predicted English Letter Of Sample Image Is: {labels_letter[res.index(mx)]}')"
      ],
      "metadata": {
        "colab": {
          "base_uri": "https://localhost:8080/"
        },
        "id": "z0pAYfi_ms0N",
        "outputId": "a2c71644-ea50-48cb-c636-6bbe2500fdf7"
      },
      "execution_count": null,
      "outputs": [
        {
          "output_type": "stream",
          "name": "stdout",
          "text": [
            "Predicted Label Index Of Sample Image Is:18\n",
            "Predicted English Letter Of Sample Image Is: S\n"
          ]
        }
      ]
    },
    {
      "cell_type": "code",
      "source": [
        ""
      ],
      "metadata": {
        "id": "B91Myv1q_wr9"
      },
      "execution_count": null,
      "outputs": []
    },
    {
      "cell_type": "markdown",
      "source": [
        "## **2. Random Forest Classifier For Hand Gesture Sign Language Recognition**\n",
        "---"
      ],
      "metadata": {
        "id": "V2FZjDKe7qrY"
      }
    },
    {
      "cell_type": "code",
      "source": [
        "import numpy as np\n",
        "import matplotlib.pyplot as plt\n",
        "%matplotlib inline\n",
        "import cv2\n",
        "from sklearn.ensemble import RandomForestClassifier\n",
        "from sklearn.model_selection import train_test_split\n",
        "from sklearn.metrics import classification_report"
      ],
      "metadata": {
        "id": "FXBtTJlH7xMP"
      },
      "execution_count": null,
      "outputs": []
    },
    {
      "cell_type": "code",
      "source": [
        "# Select The Response and Predictor Variables\n",
        "predictors=df.values[0:,1:]\n",
        "response = df.values[0:,0]\n",
        "# Take a sample and plot it\n",
        "sample = predictors[25]\n",
        "# Reshape the array as 28 by 28 because the array size is 784\n",
        "plt.imshow(sample.reshape((28,28)),cmap=plt.get_cmap(\"gray\"))"
      ],
      "metadata": {
        "colab": {
          "base_uri": "https://localhost:8080/",
          "height": 283
        },
        "id": "5qNMiQFk72Rh",
        "outputId": "5ff76727-78b2-40e6-e1ff-648200b7f6ea"
      },
      "execution_count": null,
      "outputs": [
        {
          "output_type": "execute_result",
          "data": {
            "text/plain": [
              "<matplotlib.image.AxesImage at 0x7f76fe91d4d0>"
            ]
          },
          "metadata": {},
          "execution_count": 19
        },
        {
          "output_type": "display_data",
          "data": {
            "text/plain": [
              "<Figure size 432x288 with 1 Axes>"
            ],
            "image/png": "[encoded data removed]"
          },
          "metadata": {
            "needs_background": "light"
          }
        }
      ]
    },
    {
      "cell_type": "code",
      "source": [
        "# Split the given dataset into training and testing\n",
        "X = df.iloc[:,1:]\n",
        "Y = df[['label']]\n",
        "X_train, X_test, y_train, y_test = train_test_split(X,Y,test_size=0.3,random_state=42)"
      ],
      "metadata": {
        "id": "hWm8cYp38f6T"
      },
      "execution_count": null,
      "outputs": []
    },
    {
      "cell_type": "code",
      "source": [
        "# Now Train the Model\n",
        "RFC=RandomForestClassifier(n_estimators=100)\n",
        "RFC.fit(X_train,y_train)"
      ],
      "metadata": {
        "id": "hLfFwvKn80N9",
        "colab": {
          "base_uri": "https://localhost:8080/"
        },
        "outputId": "4fb22d01-f809-4760-eeac-ed3bce7862f9"
      },
      "execution_count": null,
      "outputs": [
        {
          "output_type": "stream",
          "name": "stderr",
          "text": [
            "/usr/local/lib/python3.7/dist-packages/ipykernel_launcher.py:3: DataConversionWarning: A column-vector y was passed when a 1d array was expected. Please change the shape of y to (n_samples,), for example using ravel().\n",
            "  This is separate from the ipykernel package so we can avoid doing imports until\n"
          ]
        },
        {
          "output_type": "execute_result",
          "data": {
            "text/plain": [
              "RandomForestClassifier()"
            ]
          },
          "metadata": {},
          "execution_count": 21
        }
      ]
    },
    {
      "cell_type": "code",
      "source": [
        "# finding the score of model\n",
        "X = df.iloc[:,1:]\n",
        "Y = df.iloc[:,0]\n",
        "RFC.score(X_test,y_test)"
      ],
      "metadata": {
        "colab": {
          "base_uri": "https://localhost:8080/"
        },
        "id": "1k-SvAM288aZ",
        "outputId": "e9946e79-2ef8-4d1e-9161-ca0a7c190330"
      },
      "execution_count": null,
      "outputs": [
        {
          "output_type": "execute_result",
          "data": {
            "text/plain": [
              "0.9686666666666667"
            ]
          },
          "metadata": {},
          "execution_count": 22
        }
      ]
    },
    {
      "cell_type": "code",
      "source": [
        "# Predict the independent variables\n",
        "res=RFC.predict(X)\n",
        "res"
      ],
      "metadata": {
        "colab": {
          "base_uri": "https://localhost:8080/"
        },
        "id": "9YBthjM59soU",
        "outputId": "9a9ec468-9166-405a-fb8e-2006abd238ad"
      },
      "execution_count": null,
      "outputs": [
        {
          "output_type": "execute_result",
          "data": {
            "text/plain": [
              "array([ 3,  6,  2, ..., 24,  5, 22])"
            ]
          },
          "metadata": {},
          "execution_count": 23
        }
      ]
    },
    {
      "cell_type": "code",
      "source": [
        "# Finding out the incorrectly identified labels\n",
        "total_correct_labels = np.sum(np.squeeze(Y) == res)\n",
        "print(f'Total Incorrect labels are: {len(df) - total_correct_labels}')"
      ],
      "metadata": {
        "colab": {
          "base_uri": "https://localhost:8080/"
        },
        "id": "8kt08e8m9wj9",
        "outputId": "62f3bcac-b6a4-4f21-8fdb-040e8ed6b938"
      },
      "execution_count": null,
      "outputs": [
        {
          "output_type": "stream",
          "name": "stdout",
          "text": [
            "Total Incorrect labels are: 94\n"
          ]
        }
      ]
    },
    {
      "cell_type": "code",
      "source": [
        "# Finding out the total accuracy of model\n",
        "test_acc = total_correct_labels / Y.shape[0]\n",
        "print(f\"Test Accuracy: {test_acc * 100} %\")"
      ],
      "metadata": {
        "colab": {
          "base_uri": "https://localhost:8080/"
        },
        "id": "eg3JiivB93TP",
        "outputId": "65b7badd-b3c4-4d90-9cc9-ff005f539d0c"
      },
      "execution_count": null,
      "outputs": [
        {
          "output_type": "stream",
          "name": "stdout",
          "text": [
            "Test Accuracy: 99.06 %\n"
          ]
        }
      ]
    },
    {
      "cell_type": "code",
      "source": [
        "# Finding out the classification report of model\n",
        "y_pred = RFC.predict(X_test)\n",
        "report = classification_report(y_pred, y_test)\n",
        "print(report)"
      ],
      "metadata": {
        "colab": {
          "base_uri": "https://localhost:8080/"
        },
        "id": "nMhgWxkCzstu",
        "outputId": "4d20daaa-29ff-415c-adff-6701bb7bf3a8"
      },
      "execution_count": null,
      "outputs": [
        {
          "output_type": "stream",
          "name": "stdout",
          "text": [
            "              precision    recall  f1-score   support\n",
            "\n",
            "           0       0.98      0.95      0.96       125\n",
            "           1       0.99      0.97      0.98       115\n",
            "           2       1.00      0.99      1.00       113\n",
            "           3       0.97      1.00      0.99       117\n",
            "           4       0.96      0.99      0.97        94\n",
            "           5       0.98      0.99      0.98       142\n",
            "           6       0.99      0.97      0.98       113\n",
            "           7       0.95      0.98      0.97       106\n",
            "           8       0.98      0.97      0.97       143\n",
            "          10       0.95      0.91      0.93       117\n",
            "          11       0.97      0.98      0.98       128\n",
            "          12       0.94      0.96      0.95       113\n",
            "          13       0.97      0.97      0.97       120\n",
            "          14       0.98      0.99      0.99       132\n",
            "          15       0.97      0.97      0.97       121\n",
            "          16       0.98      0.99      0.98       160\n",
            "          17       0.94      0.94      0.94       155\n",
            "          18       0.98      0.95      0.96       144\n",
            "          19       0.98      0.94      0.96       129\n",
            "          20       0.94      0.95      0.95       128\n",
            "          21       0.98      0.95      0.96       110\n",
            "          22       0.94      0.97      0.96       123\n",
            "          23       0.98      0.99      0.99       133\n",
            "          24       0.94      1.00      0.97       119\n",
            "\n",
            "    accuracy                           0.97      3000\n",
            "   macro avg       0.97      0.97      0.97      3000\n",
            "weighted avg       0.97      0.97      0.97      3000\n",
            "\n"
          ]
        }
      ]
    },
    {
      "cell_type": "code",
      "source": [
        "labels_letter = {0:'A',1:'B',2:'C', 3:'D', 4:'E', 5:'F', 6:'G', 7:'H',8:'I',9:'J',10:'K', 11:'L', 12:'M',13:'N',\n",
        "                 14:'O',15:'P',16:'Q',17:'R',18:'S',19:'T',20:'U',21:'V',22:'W',23:'X',24:'Y',25:'Z'}"
      ],
      "metadata": {
        "id": "arBnhmGo-3Yc"
      },
      "execution_count": null,
      "outputs": []
    },
    {
      "cell_type": "code",
      "source": [
        "Imag_number =1\n",
        "sample = predictors[Imag_number]\n",
        "plt.imshow(sample.reshape((28,28)),cmap=plt.get_cmap('gray'))\n",
        "response = df.values[0:,0]\n",
        "response = to_categorical(response)\n",
        "letter_index=response[Imag_number]\n",
        "print(f'Actual Label Index Of Sample Image Is:{list(letter_index).index(1)}')\n",
        "print(f'English Letter Of Sample Image Is: {labels_letter[list(letter_index).index(1)]}')"
      ],
      "metadata": {
        "colab": {
          "base_uri": "https://localhost:8080/",
          "height": 301
        },
        "outputId": "1ac66951-cf34-49b8-ab8e-309c9f502d6e",
        "id": "Ic-h46Rv-3Yd"
      },
      "execution_count": null,
      "outputs": [
        {
          "output_type": "stream",
          "name": "stdout",
          "text": [
            "Actual Label Index Of Sample Image Is:6\n",
            "English Letter Of Sample Image Is: G\n"
          ]
        },
        {
          "output_type": "display_data",
          "data": {
            "text/plain": [
              "<Figure size 432x288 with 1 Axes>"
            ],
            "image/png": "[encoded data removed]"
          },
          "metadata": {
            "needs_background": "light"
          }
        }
      ]
    },
    {
      "cell_type": "code",
      "source": [
        "row = sample.reshape(1,-1)\n",
        "res = RFC.predict(row)\n",
        "mx=max(res)\n",
        "print(f'Predicted Label Index Of Sample Image Is:{mx}')\n",
        "print(f'Predicted English Letter Of Sample Image Is: {labels_letter[(mx)]}')"
      ],
      "metadata": {
        "colab": {
          "base_uri": "https://localhost:8080/"
        },
        "id": "jORDXf_E-8VE",
        "outputId": "f7a2b552-7247-469a-f77f-c3a6bef18fb5"
      },
      "execution_count": null,
      "outputs": [
        {
          "output_type": "stream",
          "name": "stdout",
          "text": [
            "Predicted Label Index Of Sample Image Is:6\n",
            "Predicted English Letter Of Sample Image Is: G\n"
          ]
        },
        {
          "output_type": "stream",
          "name": "stderr",
          "text": [
            "/usr/local/lib/python3.7/dist-packages/sklearn/base.py:451: UserWarning: X does not have valid feature names, but RandomForestClassifier was fitted with feature names\n",
            "  \"X does not have valid feature names, but\"\n"
          ]
        }
      ]
    },
    {
      "cell_type": "code",
      "source": [
        ""
      ],
      "metadata": {
        "id": "8ZVWxh1qBHBL"
      },
      "execution_count": null,
      "outputs": []
    },
    {
      "cell_type": "markdown",
      "source": [
        "##**3. SVM(Support Vector Machine) Multiclass Classifier For Hand Gesture Sign Language Recognition**\n",
        "---"
      ],
      "metadata": {
        "id": "FyvuUu7tqPAi"
      }
    },
    {
      "cell_type": "code",
      "source": [
        "# Import The Required Libraries\n",
        "import numpy as np\n",
        "import matplotlib.pyplot as plt\n",
        "from sklearn.preprocessing import LabelEncoder\n",
        "from sklearn.metrics import confusion_matrix, f1_score, accuracy_score,classification_report\n",
        "from sklearn.model_selection import train_test_split\n",
        "from sklearn.svm import SVC\n",
        "from keras.utils.np_utils import to_categorical"
      ],
      "metadata": {
        "id": "32xGWJWXqbZj"
      },
      "execution_count": null,
      "outputs": []
    },
    {
      "cell_type": "code",
      "source": [
        "# Select The Response and Predictor Variables\n",
        "predictors=df.values[0:,1:]\n",
        "response = df.values[0:,0]\n",
        "# Take a sample and plot it\n",
        "sample = predictors[0]\n",
        "# Reshape the array as 28 by 28 because the array size is 784\n",
        "plt.imshow(sample.reshape((28,28)),cmap=plt.get_cmap(\"gray\"))"
      ],
      "metadata": {
        "colab": {
          "base_uri": "https://localhost:8080/",
          "height": 283
        },
        "id": "uqae-Tg0qpjv",
        "outputId": "e4d9e82c-86f8-4d69-b99d-f0957672e3a0"
      },
      "execution_count": null,
      "outputs": [
        {
          "output_type": "execute_result",
          "data": {
            "text/plain": [
              "<matplotlib.image.AxesImage at 0x7f76fe7d4bd0>"
            ]
          },
          "metadata": {},
          "execution_count": 31
        },
        {
          "output_type": "display_data",
          "data": {
            "text/plain": [
              "<Figure size 432x288 with 1 Axes>"
            ],
            "image/png": "[encoded data removed]"
          },
          "metadata": {
            "needs_background": "light"
          }
        }
      ]
    },
    {
      "cell_type": "code",
      "source": [
        "# Split the given dataset into training and testing\n",
        "X = df.iloc[:,1:]\n",
        "Y = df[['label']]\n",
        "# Select the test size as 30 percent and it will set the train size as 70 percent.\n",
        "X_train, X_test, y_train, y_test = train_test_split(X,Y,test_size=0.3,random_state=42)"
      ],
      "metadata": {
        "id": "awM2Erorq8ou"
      },
      "execution_count": null,
      "outputs": []
    },
    {
      "cell_type": "code",
      "source": [
        "#Standardized with Label Encoder\n",
        "label_enc = LabelEncoder()\n",
        "y_train = label_enc.fit_transform(y_train)\n",
        "y_test = label_enc.fit_transform(y_test)"
      ],
      "metadata": {
        "colab": {
          "base_uri": "https://localhost:8080/"
        },
        "id": "DW_zb5-irTXJ",
        "outputId": "8ed8c35d-79aa-459f-eb9f-e0edd18eeb12"
      },
      "execution_count": null,
      "outputs": [
        {
          "output_type": "stream",
          "name": "stderr",
          "text": [
            "/usr/local/lib/python3.7/dist-packages/sklearn/preprocessing/_label.py:115: DataConversionWarning: A column-vector y was passed when a 1d array was expected. Please change the shape of y to (n_samples, ), for example using ravel().\n",
            "  y = column_or_1d(y, warn=True)\n"
          ]
        }
      ]
    },
    {
      "cell_type": "code",
      "source": [
        "# Train SVM Classifier by keeping decision function shape as one vs all\n",
        "SVM_classifier = SVC(decision_function_shape='ovr')\n",
        "SVM_classifier.fit(X_train, y_train)"
      ],
      "metadata": {
        "colab": {
          "base_uri": "https://localhost:8080/"
        },
        "id": "X2QUJUlXrpvD",
        "outputId": "ad89202d-d2c1-4478-e932-bcfc1af79658"
      },
      "execution_count": null,
      "outputs": [
        {
          "output_type": "execute_result",
          "data": {
            "text/plain": [
              "SVC()"
            ]
          },
          "metadata": {},
          "execution_count": 34
        }
      ]
    },
    {
      "cell_type": "code",
      "source": [
        "y_pred = SVM_classifier.predict(X_test)\n",
        "y_pred"
      ],
      "metadata": {
        "colab": {
          "base_uri": "https://localhost:8080/"
        },
        "id": "x5wuBe8Or169",
        "outputId": "5a34fced-8dc3-4e25-eeb7-dc4ac3f5d597"
      },
      "execution_count": null,
      "outputs": [
        {
          "output_type": "execute_result",
          "data": {
            "text/plain": [
              "array([ 4, 16, 17, ..., 11, 17, 18])"
            ]
          },
          "metadata": {},
          "execution_count": 35
        }
      ]
    },
    {
      "cell_type": "code",
      "source": [
        "accuracy = accuracy_score(y_test,y_pred)\n",
        "accuracy"
      ],
      "metadata": {
        "colab": {
          "base_uri": "https://localhost:8080/"
        },
        "id": "-gy-FwPTsR4z",
        "outputId": "9faf8e2b-a1a4-428d-a0e8-087f06e819dc"
      },
      "execution_count": null,
      "outputs": [
        {
          "output_type": "execute_result",
          "data": {
            "text/plain": [
              "0.984"
            ]
          },
          "metadata": {},
          "execution_count": 36
        }
      ]
    },
    {
      "cell_type": "code",
      "source": [
        "# check out the f1 score for the SVM\n",
        "f1 = f1_score(y_test,y_pred,average='micro')\n",
        "f1"
      ],
      "metadata": {
        "colab": {
          "base_uri": "https://localhost:8080/"
        },
        "id": "JHnG0rrNse2H",
        "outputId": "44da2186-0139-4a4b-ca20-a48b101fafaf"
      },
      "execution_count": null,
      "outputs": [
        {
          "output_type": "execute_result",
          "data": {
            "text/plain": [
              "0.984"
            ]
          },
          "metadata": {},
          "execution_count": 37
        }
      ]
    },
    {
      "cell_type": "code",
      "source": [
        "# Check out the confusion matrix\n",
        "cm = confusion_matrix(y_test,y_pred)\n",
        "cm"
      ],
      "metadata": {
        "colab": {
          "base_uri": "https://localhost:8080/"
        },
        "id": "O-9MjpsesiDW",
        "outputId": "194dda77-4795-4d8f-e4db-3bf600ec385b"
      },
      "execution_count": null,
      "outputs": [
        {
          "output_type": "execute_result",
          "data": {
            "text/plain": [
              "array([[119,   0,   0,   0,   0,   0,   0,   0,   0,   0,   0,   0,   0,\n",
              "          0,   0,   0,   0,   3,   0,   0,   0,   0,   0,   0],\n",
              "       [  0, 112,   0,   0,   0,   0,   0,   0,   0,   0,   0,   0,   0,\n",
              "          0,   0,   0,   0,   0,   0,   0,   0,   0,   0,   0],\n",
              "       [  0,   0, 112,   0,   0,   0,   0,   0,   0,   0,   0,   0,   0,\n",
              "          0,   0,   0,   0,   0,   0,   0,   0,   0,   0,   0],\n",
              "       [  0,   0,   0, 120,   0,   0,   0,   0,   0,   0,   0,   0,   0,\n",
              "          0,   0,   0,   0,   0,   0,   0,   0,   0,   0,   0],\n",
              "       [  0,   0,   0,   0,  97,   0,   0,   0,   0,   0,   0,   0,   0,\n",
              "          0,   0,   0,   0,   0,   0,   0,   0,   0,   0,   0],\n",
              "       [  0,   0,   0,   0,   0, 141,   0,   0,   0,   0,   0,   0,   0,\n",
              "          0,   0,   0,   1,   0,   0,   0,   1,   0,   0,   0],\n",
              "       [  0,   0,   0,   0,   0,   0, 110,   0,   0,   0,   0,   0,   0,\n",
              "          0,   0,   0,   0,   0,   1,   0,   0,   0,   0,   0],\n",
              "       [  0,   0,   0,   0,   0,   0,   0, 109,   0,   0,   0,   0,   0,\n",
              "          0,   0,   0,   0,   0,   0,   0,   0,   0,   0,   0],\n",
              "       [  1,   0,   0,   0,   0,   0,   0,   0, 140,   0,   0,   0,   0,\n",
              "          0,   0,   0,   0,   0,   0,   0,   0,   0,   0,   0],\n",
              "       [  0,   0,   0,   0,   0,   0,   0,   0,   0, 109,   0,   0,   0,\n",
              "          0,   0,   0,   1,   0,   0,   1,   0,   0,   0,   0],\n",
              "       [  0,   0,   0,   0,   0,   0,   0,   0,   0,   0, 129,   0,   0,\n",
              "          0,   0,   0,   1,   0,   0,   0,   0,   0,   0,   0],\n",
              "       [  0,   0,   0,   0,   0,   0,   0,   0,   0,   0,   0, 114,   0,\n",
              "          0,   0,   0,   0,   1,   0,   0,   0,   0,   0,   0],\n",
              "       [  0,   0,   0,   0,   0,   0,   0,   0,   0,   0,   0,   0, 120,\n",
              "          0,   0,   0,   0,   0,   0,   0,   0,   0,   0,   0],\n",
              "       [  0,   0,   0,   0,   0,   0,   0,   0,   0,   0,   0,   0,   0,\n",
              "        133,   0,   0,   0,   0,   0,   0,   0,   0,   0,   0],\n",
              "       [  0,   0,   0,   0,   0,   0,   0,   0,   0,   0,   0,   0,   0,\n",
              "          0, 120,   0,   0,   0,   0,   0,   0,   0,   0,   0],\n",
              "       [  0,   0,   0,   0,   0,   0,   0,   0,   0,   0,   0,   0,   0,\n",
              "          0,   0, 160,   0,   1,   0,   0,   0,   0,   0,   0],\n",
              "       [  0,   0,   0,   0,   0,   0,   0,   0,   0,   0,   0,   0,   0,\n",
              "          0,   0,   0, 148,   0,   0,   1,   5,   1,   0,   0],\n",
              "       [  0,   0,   0,   0,   0,   0,   0,   0,   0,   0,   0,   0,   5,\n",
              "          0,   0,   0,   0, 135,   0,   0,   0,   0,   0,   0],\n",
              "       [  0,   0,   0,   0,   0,   0,   0,   0,   0,   0,   0,   0,   0,\n",
              "          0,   0,   0,   0,   0, 124,   0,   0,   0,   0,   0],\n",
              "       [  0,   0,   0,   0,   0,   0,   0,   0,   0,   1,   0,   0,   0,\n",
              "          0,   0,   0,   4,   0,   0, 120,   1,   4,   0,   0],\n",
              "       [  0,   0,   0,   0,   0,   0,   0,   0,   0,   1,   0,   0,   0,\n",
              "          0,   0,   0,   1,   0,   0,   0, 104,   0,   0,   0],\n",
              "       [  0,   0,   0,   0,   0,   0,   0,   0,   0,   0,   0,   0,   0,\n",
              "          0,   0,   0,   1,   0,   0,   4,   7, 114,   0,   0],\n",
              "       [  0,   0,   0,   0,   0,   0,   0,   0,   0,   0,   0,   0,   0,\n",
              "          0,   0,   0,   0,   0,   0,   0,   0,   0, 135,   0],\n",
              "       [  0,   0,   0,   0,   0,   0,   0,   0,   0,   0,   0,   0,   0,\n",
              "          0,   0,   0,   0,   0,   0,   0,   0,   0,   0, 127]])"
            ]
          },
          "metadata": {},
          "execution_count": 38
        }
      ]
    },
    {
      "cell_type": "code",
      "source": [
        "# Classification Report\n",
        "c_report = classification_report(y_pred, y_test)\n",
        "print(c_report)"
      ],
      "metadata": {
        "colab": {
          "base_uri": "https://localhost:8080/"
        },
        "id": "DR9A-cLK08c4",
        "outputId": "30fab051-802b-48d4-925f-dbaba500ee5a"
      },
      "execution_count": null,
      "outputs": [
        {
          "output_type": "stream",
          "name": "stdout",
          "text": [
            "              precision    recall  f1-score   support\n",
            "\n",
            "           0       0.98      0.99      0.98       120\n",
            "           1       1.00      1.00      1.00       112\n",
            "           2       1.00      1.00      1.00       112\n",
            "           3       1.00      1.00      1.00       120\n",
            "           4       1.00      1.00      1.00        97\n",
            "           5       0.99      1.00      0.99       141\n",
            "           6       0.99      1.00      1.00       110\n",
            "           7       1.00      1.00      1.00       109\n",
            "           8       0.99      1.00      1.00       140\n",
            "           9       0.98      0.98      0.98       111\n",
            "          10       0.99      1.00      1.00       129\n",
            "          11       0.99      1.00      1.00       114\n",
            "          12       1.00      0.96      0.98       125\n",
            "          13       1.00      1.00      1.00       133\n",
            "          14       1.00      1.00      1.00       120\n",
            "          15       0.99      1.00      1.00       160\n",
            "          16       0.95      0.94      0.95       157\n",
            "          17       0.96      0.96      0.96       140\n",
            "          18       1.00      0.99      1.00       125\n",
            "          19       0.92      0.95      0.94       126\n",
            "          20       0.98      0.88      0.93       118\n",
            "          21       0.90      0.96      0.93       119\n",
            "          22       1.00      1.00      1.00       135\n",
            "          23       1.00      1.00      1.00       127\n",
            "\n",
            "    accuracy                           0.98      3000\n",
            "   macro avg       0.98      0.98      0.98      3000\n",
            "weighted avg       0.98      0.98      0.98      3000\n",
            "\n"
          ]
        }
      ]
    },
    {
      "cell_type": "code",
      "source": [
        "# Following are the labels letter\n",
        "labels_letter = {0:'A',1:'B',2:'C', 3:'D', 4:'E', 5:'F', 6:'G', 7:'H',8:'I',9:'J',10:'K', 11:'L', 12:'M',13:'N',\n",
        "                 14:'O',15:'P',16:'Q',17:'R',18:'S',19:'T',20:'U',21:'V',22:'W',23:'X',24:'Y',25:'Z'}"
      ],
      "metadata": {
        "id": "QCnCeP40tJwW"
      },
      "execution_count": null,
      "outputs": []
    },
    {
      "cell_type": "code",
      "source": [
        "# Select an image as a sample and check out its letter and actual index\n",
        "Imag_number =0\n",
        "sample = predictors[Imag_number]\n",
        "plt.imshow(sample.reshape((28,28)),cmap = plt.get_cmap('gray'))\n",
        "response = df.values[0:,0]\n",
        "response = to_categorical(response)\n",
        "letter_index=response[Imag_number]\n",
        "print(f'Actual Label Index Of Sample Image Is:{list(letter_index).index(1)}')\n",
        "print(f'English Letter Of Sample Image Is: {labels_letter[list(letter_index).index(1)]}')"
      ],
      "metadata": {
        "colab": {
          "base_uri": "https://localhost:8080/",
          "height": 301
        },
        "outputId": "6bb02278-5e18-4219-9bfc-13c3e2587b73",
        "id": "XCpaiH_WtJwm"
      },
      "execution_count": null,
      "outputs": [
        {
          "output_type": "stream",
          "name": "stdout",
          "text": [
            "Actual Label Index Of Sample Image Is:3\n",
            "English Letter Of Sample Image Is: D\n"
          ]
        },
        {
          "output_type": "display_data",
          "data": {
            "text/plain": [
              "<Figure size 432x288 with 1 Axes>"
            ],
            "image/png": "[encoded data removed]"
          },
          "metadata": {
            "needs_background": "light"
          }
        }
      ]
    },
    {
      "cell_type": "code",
      "source": [
        "# Now Reshape the sample and pass it to the trained model if it give similar to the actual than it is better trained\n",
        "row = sample.reshape(1,-1)\n",
        "res = SVM_classifier.predict(row)\n",
        "mx=max(res)\n",
        "print(f'Predicted Label Index Of Sample Image Is:{mx}')\n",
        "print(f'Predicted English Letter Of Sample Image Is: {labels_letter[(mx)]}')"
      ],
      "metadata": {
        "colab": {
          "base_uri": "https://localhost:8080/"
        },
        "outputId": "872ac4e6-6ba8-491d-e741-024be95e49b0",
        "id": "UecXuQ_ytJwm"
      },
      "execution_count": null,
      "outputs": [
        {
          "output_type": "stream",
          "name": "stdout",
          "text": [
            "Predicted Label Index Of Sample Image Is:3\n",
            "Predicted English Letter Of Sample Image Is: D\n"
          ]
        },
        {
          "output_type": "stream",
          "name": "stderr",
          "text": [
            "/usr/local/lib/python3.7/dist-packages/sklearn/base.py:451: UserWarning: X does not have valid feature names, but SVC was fitted with feature names\n",
            "  \"X does not have valid feature names, but\"\n"
          ]
        }
      ]
    },
    {
      "cell_type": "markdown",
      "source": [
        ""
      ],
      "metadata": {
        "id": "MJJw7ZjoqqWE"
      }
    },
    {
      "cell_type": "code",
      "source": [
        "#4 Decision tree Classifier"
      ],
      "metadata": {
        "id": "vqafEYainDdv"
      },
      "execution_count": null,
      "outputs": []
    },
    {
      "cell_type": "markdown",
      "source": [
        "# **#4 Decision tree Classifier**"
      ],
      "metadata": {
        "id": "qRCsIvR8q1sh"
      }
    },
    {
      "cell_type": "code",
      "source": [
        "# Import The Required Libraries\n",
        "import numpy as np\n",
        "import matplotlib.pyplot as plt\n",
        "from sklearn.preprocessing import LabelEncoder\n",
        "from sklearn.metrics import confusion_matrix, f1_score, accuracy_score,classification_report\n",
        "from sklearn.model_selection import train_test_split\n",
        "from sklearn.tree import DecisionTreeClassifier\n",
        "from keras.utils.np_utils import to_categorical"
      ],
      "metadata": {
        "id": "GdNr0hunnGGX"
      },
      "execution_count": null,
      "outputs": []
    },
    {
      "cell_type": "code",
      "source": [
        "# Select The Response and Predictor Variables\n",
        "predictors=df.values[0:,1:]\n",
        "response = df.values[0:,0]\n",
        "# Take a sample and plot it\n",
        "sample = predictors[0]\n",
        "# Reshape the array as 28 by 28 because the array size is 784\n",
        "plt.imshow(sample.reshape((28,28)),cmap=plt.get_cmap(\"gray\"))"
      ],
      "metadata": {
        "colab": {
          "base_uri": "https://localhost:8080/",
          "height": 283
        },
        "id": "jz1yzPdQnL-I",
        "outputId": "b120141c-5d5f-4e00-86b0-d226bbe3fd42"
      },
      "execution_count": null,
      "outputs": [
        {
          "output_type": "execute_result",
          "data": {
            "text/plain": [
              "<matplotlib.image.AxesImage at 0x7f76fe6d3390>"
            ]
          },
          "metadata": {},
          "execution_count": 45
        },
        {
          "output_type": "display_data",
          "data": {
            "text/plain": [
              "<Figure size 432x288 with 1 Axes>"
            ],
            "image/png": "[encoded data removed]"
          },
          "metadata": {
            "needs_background": "light"
          }
        }
      ]
    },
    {
      "cell_type": "code",
      "source": [
        "# Split the given dataset into training and testing\n",
        "X = df.iloc[:,1:]\n",
        "Y = df[['label']]\n",
        "# Select the test size as 30 percent and it will set the train size as 70 percent.\n",
        "X_train, X_test, y_train, y_test = train_test_split(X,Y,test_size=0.3,random_state=42)"
      ],
      "metadata": {
        "id": "jFLLLIHcnPDm"
      },
      "execution_count": null,
      "outputs": []
    },
    {
      "cell_type": "code",
      "source": [
        "#Standardized with Label Encoder\n",
        "label_enc = LabelEncoder()\n",
        "y_train = label_enc.fit_transform(y_train)\n",
        "y_test = label_enc.fit_transform(y_test)"
      ],
      "metadata": {
        "colab": {
          "base_uri": "https://localhost:8080/"
        },
        "id": "J0Ulcj0JnSU7",
        "outputId": "900133b1-028e-43b5-f4b6-211207162bfb"
      },
      "execution_count": null,
      "outputs": [
        {
          "output_type": "stream",
          "name": "stderr",
          "text": [
            "/usr/local/lib/python3.7/dist-packages/sklearn/preprocessing/_label.py:115: DataConversionWarning: A column-vector y was passed when a 1d array was expected. Please change the shape of y to (n_samples, ), for example using ravel().\n",
            "  y = column_or_1d(y, warn=True)\n"
          ]
        }
      ]
    },
    {
      "cell_type": "code",
      "source": [
        "dec_tree= DecisionTreeClassifier(max_depth=10)\n",
        "dec_tree.fit(X_train,y_train)"
      ],
      "metadata": {
        "colab": {
          "base_uri": "https://localhost:8080/"
        },
        "id": "SbYrKAd0nqzE",
        "outputId": "548fc0c3-b939-4924-ae21-1f797e730273"
      },
      "execution_count": null,
      "outputs": [
        {
          "output_type": "execute_result",
          "data": {
            "text/plain": [
              "DecisionTreeClassifier(max_depth=10)"
            ]
          },
          "metadata": {},
          "execution_count": 48
        }
      ]
    },
    {
      "cell_type": "code",
      "source": [
        "y_pred = dec_tree.predict(X_test)\n",
        "y_pred"
      ],
      "metadata": {
        "colab": {
          "base_uri": "https://localhost:8080/"
        },
        "id": "mKGEyhB_nuPV",
        "outputId": "b4741fac-fb51-46ad-b6f1-baf36d9ae261"
      },
      "execution_count": null,
      "outputs": [
        {
          "output_type": "execute_result",
          "data": {
            "text/plain": [
              "array([21, 16, 23, ..., 11, 11, 18])"
            ]
          },
          "metadata": {},
          "execution_count": 49
        }
      ]
    },
    {
      "cell_type": "code",
      "source": [
        "accuracy = accuracy_score(y_test,y_pred)\n",
        "accuracy"
      ],
      "metadata": {
        "colab": {
          "base_uri": "https://localhost:8080/"
        },
        "id": "SqJgew-FnySZ",
        "outputId": "f194b033-e8f3-4770-cb36-d5e1e86f7acf"
      },
      "execution_count": null,
      "outputs": [
        {
          "output_type": "execute_result",
          "data": {
            "text/plain": [
              "0.515"
            ]
          },
          "metadata": {},
          "execution_count": 50
        }
      ]
    },
    {
      "cell_type": "code",
      "source": [
        "# check out the f1 score for the SVM\n",
        "f1 = f1_score(y_test,y_pred,average='micro')\n",
        "f1"
      ],
      "metadata": {
        "colab": {
          "base_uri": "https://localhost:8080/"
        },
        "id": "0jgfpUGwn1a1",
        "outputId": "adcbd9ef-ad70-489e-edd0-6fa9ee60b9e7"
      },
      "execution_count": null,
      "outputs": [
        {
          "output_type": "execute_result",
          "data": {
            "text/plain": [
              "0.515"
            ]
          },
          "metadata": {},
          "execution_count": 51
        }
      ]
    },
    {
      "cell_type": "code",
      "source": [
        "# Check out the confusion matrix\n",
        "cm = confusion_matrix(y_test,y_pred)\n",
        "cm"
      ],
      "metadata": {
        "colab": {
          "base_uri": "https://localhost:8080/"
        },
        "id": "uuDSzrK8n4iA",
        "outputId": "67902532-7524-4eb7-8609-da50387b4a75"
      },
      "execution_count": null,
      "outputs": [
        {
          "output_type": "execute_result",
          "data": {
            "text/plain": [
              "array([[ 91,   0,   0,   1,   5,   3,   0,   0,   4,   2,   0,   6,   0,\n",
              "          2,   0,   0,   0,   0,   0,   2,   0,   0,   0,   6],\n",
              "       [  2,  59,   0,   1,   8,   0,   0,   2,   2,   3,   0,   5,   2,\n",
              "          0,   0,   0,   3,   0,   1,  14,   2,   1,   0,   7],\n",
              "       [  1,   0,  95,   6,   0,   1,   1,   0,   0,   0,   1,   0,   0,\n",
              "          1,   0,   1,   0,   0,   0,   1,   0,   0,   0,   4],\n",
              "       [  0,   6,   0,  64,   0,   4,   3,   0,   0,   7,   0,   5,   2,\n",
              "          0,   0,   1,   6,   0,   0,   4,   3,   5,   1,   9],\n",
              "       [  6,   1,   1,   0,  45,   2,   0,   0,   2,   0,   0,  10,   3,\n",
              "          2,   0,   1,   1,   1,   2,   0,   0,   5,   0,  15],\n",
              "       [  1,   2,   2,   1,   6,  75,   8,   4,   1,   3,   1,   5,   2,\n",
              "          5,   0,   1,   1,   0,   2,   1,   8,   1,   3,  10],\n",
              "       [  0,   1,   3,   0,   0,   4,  74,   4,   0,   0,   0,   0,   0,\n",
              "          1,   0,   0,   0,   0,   6,   0,  14,   1,   0,   3],\n",
              "       [  0,   0,   0,   1,   1,   6,  15,  45,   0,   1,   2,   0,   0,\n",
              "          2,   2,   6,   1,   1,   6,   0,  11,   0,   0,   9],\n",
              "       [  7,   0,   0,   2,   7,   3,   0,   0,  50,   5,   4,  10,   2,\n",
              "          1,   3,   1,   0,   0,   8,   2,   1,   3,   0,  32],\n",
              "       [  5,   2,   0,   1,   3,   0,   0,   0,   5,  58,   1,   4,   1,\n",
              "          0,   1,   0,   6,   0,   1,   0,   4,   3,   0,  16],\n",
              "       [  2,   1,   6,   1,   0,   5,   7,   1,   0,   3,  60,   1,   1,\n",
              "          2,   0,   0,   4,   0,   6,   0,  14,   2,   0,  14],\n",
              "       [  3,   1,   1,   1,   5,   2,   0,   2,   3,   8,   1,  64,   7,\n",
              "          1,   1,   2,   3,   1,   0,   2,   0,   3,   0,   4],\n",
              "       [  6,   3,   0,   0,  10,   1,   0,   0,  12,   2,   0,   9,  59,\n",
              "          2,   1,   1,   0,   1,   3,   1,   2,   1,   0,   6],\n",
              "       [  3,   2,   4,   1,   1,   4,   2,   0,   6,   1,   2,  13,   2,\n",
              "         85,   3,   0,   0,   0,   0,   0,   3,   0,   0,   1],\n",
              "       [  2,   0,   0,   2,   0,   2,   1,   1,   2,   0,   0,   0,   0,\n",
              "          1,  93,   3,   2,   0,   1,   1,   7,   1,   0,   1],\n",
              "       [  1,   2,   3,   5,   9,   5,   0,   0,   0,   1,   0,   6,   2,\n",
              "          1,   9, 107,   0,   0,   2,   1,   2,   2,   2,   1],\n",
              "       [  7,   3,   0,   7,   1,   3,   0,   2,   5,  11,   0,   9,   0,\n",
              "          1,   0,   0,  41,   0,   1,   8,  24,  11,   0,  21],\n",
              "       [  3,   0,   0,   1,   5,   1,   1,   2,   2,   5,   0,  23,  12,\n",
              "          0,   0,   1,   1,  51,   0,   1,   5,   2,   2,  22],\n",
              "       [  0,   1,   0,   1,   3,   1,   5,   2,   4,   1,   5,   9,   0,\n",
              "          0,   2,   0,   5,   0,  58,   2,  16,   0,   0,   9],\n",
              "       [  2,   2,   0,   3,   3,   0,   1,   0,   3,   9,   1,   2,   2,\n",
              "          1,   0,   0,   8,   0,   5,  48,  11,  14,   1,  14],\n",
              "       [  0,   0,   2,   0,   1,   0,   1,   1,   4,   8,   4,   5,   0,\n",
              "          0,   1,   0,   1,   1,   1,   6,  38,   9,   0,  23],\n",
              "       [  6,   2,   0,   0,   7,   3,   1,   0,   3,   6,   0,   7,   0,\n",
              "          3,   3,   0,   3,   2,   0,   3,  19,  44,   1,  13],\n",
              "       [  6,   6,   2,   4,   2,   0,   7,   2,   0,   5,   0,   5,   0,\n",
              "          3,   1,   1,   2,   0,   9,   2,   9,   3,  62,   4],\n",
              "       [  0,   4,   1,   0,   0,   5,   4,   1,   6,   3,   1,   2,   4,\n",
              "          0,   1,   1,   0,   0,   3,   1,   7,   4,   0,  79]])"
            ]
          },
          "metadata": {},
          "execution_count": 52
        }
      ]
    },
    {
      "cell_type": "code",
      "source": [
        "# Classification Report\n",
        "c_report = classification_report(y_pred, y_test)\n",
        "print(c_report)"
      ],
      "metadata": {
        "colab": {
          "base_uri": "https://localhost:8080/"
        },
        "id": "smoarl8Hn8vS",
        "outputId": "658c17d9-65ff-4012-d26a-49dc427e3ae3"
      },
      "execution_count": null,
      "outputs": [
        {
          "output_type": "stream",
          "name": "stdout",
          "text": [
            "              precision    recall  f1-score   support\n",
            "\n",
            "           0       0.75      0.59      0.66       154\n",
            "           1       0.53      0.60      0.56        98\n",
            "           2       0.85      0.79      0.82       120\n",
            "           3       0.53      0.62      0.57       103\n",
            "           4       0.46      0.37      0.41       122\n",
            "           5       0.52      0.58      0.55       130\n",
            "           6       0.67      0.56      0.61       131\n",
            "           7       0.41      0.65      0.51        69\n",
            "           8       0.35      0.44      0.39       114\n",
            "           9       0.52      0.41      0.46       142\n",
            "          10       0.46      0.72      0.56        83\n",
            "          11       0.56      0.32      0.41       200\n",
            "          12       0.49      0.58      0.53       101\n",
            "          13       0.64      0.75      0.69       114\n",
            "          14       0.78      0.77      0.77       121\n",
            "          15       0.66      0.84      0.74       127\n",
            "          16       0.26      0.47      0.34        88\n",
            "          17       0.36      0.88      0.52        58\n",
            "          18       0.47      0.50      0.49       115\n",
            "          19       0.37      0.48      0.42       100\n",
            "          20       0.36      0.19      0.25       200\n",
            "          21       0.35      0.38      0.37       115\n",
            "          22       0.46      0.86      0.60        72\n",
            "          23       0.62      0.24      0.35       323\n",
            "\n",
            "    accuracy                           0.52      3000\n",
            "   macro avg       0.52      0.57      0.52      3000\n",
            "weighted avg       0.54      0.52      0.50      3000\n",
            "\n"
          ]
        }
      ]
    },
    {
      "cell_type": "code",
      "source": [
        "# Following are the labels letter\n",
        "labels_letter = {0:'A',1:'B',2:'C', 3:'D', 4:'E', 5:'F', 6:'G', 7:'H',8:'I',9:'J',10:'K', 11:'L', 12:'M',13:'N',\n",
        "                 14:'O',15:'P',16:'Q',17:'R',18:'S',19:'T',20:'U',21:'V',22:'W',23:'X',24:'Y',25:'Z'}"
      ],
      "metadata": {
        "id": "AWzJrA5Rn-35"
      },
      "execution_count": null,
      "outputs": []
    },
    {
      "cell_type": "code",
      "source": [
        "# Select an image as a sample and check out its letter and actual index\n",
        "Imag_number =0\n",
        "sample = predictors[Imag_number]\n",
        "plt.imshow(sample.reshape((28,28)),cmap = plt.get_cmap('gray'))\n",
        "response = df.values[0:,0]\n",
        "response = to_categorical(response)\n",
        "letter_index=response[Imag_number]\n",
        "print(f'Actual Label Index Of Sample Image Is:{list(letter_index).index(1)}')\n",
        "print(f'English Letter Of Sample Image Is: {labels_letter[list(letter_index).index(1)]}')"
      ],
      "metadata": {
        "colab": {
          "base_uri": "https://localhost:8080/",
          "height": 301
        },
        "id": "COeHjc2woB9H",
        "outputId": "0ad9ef20-3021-4d9f-b6ea-b12f0e94f894"
      },
      "execution_count": null,
      "outputs": [
        {
          "output_type": "stream",
          "name": "stdout",
          "text": [
            "Actual Label Index Of Sample Image Is:3\n",
            "English Letter Of Sample Image Is: D\n"
          ]
        },
        {
          "output_type": "display_data",
          "data": {
            "text/plain": [
              "<Figure size 432x288 with 1 Axes>"
            ],
            "image/png": "[encoded data removed]"
          },
          "metadata": {
            "needs_background": "light"
          }
        }
      ]
    },
    {
      "cell_type": "code",
      "source": [
        "# Now Reshape the sample and pass it to the trained model if it give similar to the actual than it is better trained\n",
        "row = sample.reshape(1,-1)\n",
        "res = dec_tree.predict(row)\n",
        "mx=max(res)\n",
        "print(f'Predicted Label Index Of Sample Image Is:{mx}')\n",
        "print(f'Predicted English Letter Of Sample Image Is: {labels_letter[(mx)]}')"
      ],
      "metadata": {
        "colab": {
          "base_uri": "https://localhost:8080/"
        },
        "id": "1QPzqVacoEw7",
        "outputId": "83634499-ef25-4491-8354-f900dec08501"
      },
      "execution_count": null,
      "outputs": [
        {
          "output_type": "stream",
          "name": "stdout",
          "text": [
            "Predicted Label Index Of Sample Image Is:3\n",
            "Predicted English Letter Of Sample Image Is: D\n"
          ]
        },
        {
          "output_type": "stream",
          "name": "stderr",
          "text": [
            "/usr/local/lib/python3.7/dist-packages/sklearn/base.py:451: UserWarning: X does not have valid feature names, but DecisionTreeClassifier was fitted with feature names\n",
            "  \"X does not have valid feature names, but\"\n"
          ]
        }
      ]
    },
    {
      "cell_type": "markdown",
      "source": [
        "##**Classifier App**\n",
        "---"
      ],
      "metadata": {
        "id": "bsyOlffaeBd9"
      }
    },
    {
      "cell_type": "code",
      "source": [
        "print('Following Classifier Trained Successfully On The Sign_Mnist Dataset: \\n ')\n",
        "print('1. Convolution Neural Network \\n')\n",
        "print('2. Random Forest Classifier \\n')\n",
        "print('3. SVM Multiclass Classifier \\n')\n",
        "print('4. Decision Tree Classifier \\n')"
      ],
      "metadata": {
        "colab": {
          "base_uri": "https://localhost:8080/"
        },
        "id": "tdjLkPPOeN5D",
        "outputId": "269aa44b-6770-425b-fe97-4d06f76a8ad5"
      },
      "execution_count": null,
      "outputs": [
        {
          "output_type": "stream",
          "name": "stdout",
          "text": [
            "Following Classifier Trained Successfully On The Sign_Mnist Dataset: \n",
            " \n",
            "1. Convolution Neural Network \n",
            "\n",
            "2. Random Forest Classifier \n",
            "\n",
            "3. SVM Multiclass Classifier \n",
            "\n",
            "4. Decision Tree Classifier \n",
            "\n"
          ]
        }
      ]
    },
    {
      "cell_type": "code",
      "source": [
        "# Here Is The App of the above Classifiers\n",
        "def app(labels,input_image):\n",
        "  print('Enter 1 For CNN \\n', 'Enter 2 For Random Forest Classifier \\n', 'Enter 3 for the SVM \\n','Enter 4 For Decision Tree Classifier The App \\n', 'Enter 5 For Exit The App \\n')\n",
        "  user_input = int(input('Enter Number To Select The Classifier For The Prediction Of Given Image: '))\n",
        "  if user_input == 1:\n",
        "    sample=input_image.reshape((1,28,28,1))\n",
        "    res=model.predict(sample)\n",
        "    res=list(res[0])\n",
        "    mx=max(res)\n",
        "    print('Below Result Shows The CNN Classification Of The Given Image: \\n')\n",
        "    print(f'Predicted Label Index Of Sample Image Is:{res.index(mx)}')\n",
        "    print(f'Predicted English Letter Of Sample Image Is: {labels[res.index(mx)]}')\n",
        "\n",
        "  elif user_input == 2:\n",
        "    row = input_image.reshape(1,-1)\n",
        "    res = RFC.predict(row)\n",
        "    mx=max(res)\n",
        "    print('Below Result Shows The Random Forest Classification Of The Given Image: \\n')\n",
        "    print(f'Predicted Label Index Of Sample Image Is:{mx}')\n",
        "    print(f'Predicted English Letter Of Sample Image Is: {labels[(mx)]}')\n",
        "  \n",
        "  elif user_input == 3:\n",
        "    row = input_image.reshape(1,-1)\n",
        "    res = SVM_classifier.predict(row)\n",
        "    mx=max(res)\n",
        "    print('Below Result Shows The SVM Classification Of The Given Image: \\n')\n",
        "    print(f'Predicted Label Index Of Sample Image Is:{mx}')\n",
        "    print(f'Predicted English Letter Of Sample Image Is: {labels[(mx)]}')\n",
        "  elif user_input == 4:\n",
        "    row = input_image.reshape(1,-1)\n",
        "    res = dec_tree.predict(row)\n",
        "    mx=max(res)\n",
        "    print('Below Result Shows The SVM Classification Of The Given Image: \\n')\n",
        "    print(f'Predicted Label Index Of Sample Image Is:{mx}')\n",
        "    print(f'Predicted English Letter Of Sample Image Is: {labels[(mx)]}')\n",
        "  elif user_input == 5:\n",
        "    print('The App Closed, Thank You For Using It!')\n",
        "    exit()\n",
        "  \n",
        "  else:\n",
        "    print('Please Enter The Correct Input...')"
      ],
      "metadata": {
        "id": "4TfrtExAgCPW"
      },
      "execution_count": null,
      "outputs": []
    },
    {
      "cell_type": "code",
      "source": [
        "# Here are the labels of the letter along with indices\n",
        "labels_letter = {0:'A',1:'B',2:'C', 3:'D', 4:'E', 5:'F', 6:'G', 7:'H',8:'I',9:'J',10:'K', 11:'L', 12:'M',13:'N',\n",
        "                 14:'O',15:'P',16:'Q',17:'R',18:'S',19:'T',20:'U',21:'V',22:'W',23:'X',24:'Y',25:'Z'}"
      ],
      "metadata": {
        "id": "SmWWB-tOgeCx"
      },
      "execution_count": null,
      "outputs": []
    },
    {
      "cell_type": "code",
      "source": [
        "# Select any image From the Dataset or You may input here your own hand gesture\n",
        "Imag_number =0\n",
        "sample_image = predictors[Imag_number]\n",
        "plt.imshow(sample_image.reshape((28,28)),cmap=plt.get_cmap(\"gray\"))\n",
        "response = df.values[0:,0]\n",
        "response = to_categorical(response)\n",
        "letter_index=response[Imag_number]\n",
        "print(f'Actual Label Index Of Sample Image Is:{list(letter_index).index(1)}')\n",
        "print(f'English Letter Of Sample Image Is: {labels_letter[list(letter_index).index(1)]}')"
      ],
      "metadata": {
        "id": "ulWqRkrDgniT",
        "colab": {
          "base_uri": "https://localhost:8080/",
          "height": 301
        },
        "outputId": "8ae81f44-caa5-40bf-b336-90b9e4121c72"
      },
      "execution_count": null,
      "outputs": [
        {
          "output_type": "stream",
          "name": "stdout",
          "text": [
            "Actual Label Index Of Sample Image Is:3\n",
            "English Letter Of Sample Image Is: D\n"
          ]
        },
        {
          "output_type": "display_data",
          "data": {
            "text/plain": [
              "<Figure size 432x288 with 1 Axes>"
            ],
            "image/png": "[encoded data removed]"
          },
          "metadata": {
            "needs_background": "light"
          }
        }
      ]
    },
    {
      "cell_type": "code",
      "source": [
        "# Now Pass the sample image and the labels to the classifier app\n",
        "app(labels_letter, sample_image)"
      ],
      "metadata": {
        "colab": {
          "base_uri": "https://localhost:8080/"
        },
        "id": "h61N0sbu49IL",
        "outputId": "a68425aa-d9c6-4216-88d3-1355d40b3c0d"
      },
      "execution_count": null,
      "outputs": [
        {
          "output_type": "stream",
          "name": "stdout",
          "text": [
            "Enter 1 For CNN \n",
            " Enter 2 For Random Forest Classifier \n",
            " Enter 3 for the SVM \n",
            " Enter 4 For Decision Tree Classifier The App \n",
            " Enter 5 For Exit The App \n",
            "\n"
          ]
        }
      ]
    },
    {
      "cell_type": "code",
      "source": [
        "app(labels_letter, sample_image)"
      ],
      "metadata": {
        "id": "u3xzHCOP5R7q"
      },
      "execution_count": null,
      "outputs": []
    },
    {
      "cell_type": "code",
      "source": [
        "app(labels_letter,sample_image)"
      ],
      "metadata": {
        "id": "4zRn5Siz5cmp"
      },
      "execution_count": null,
      "outputs": []
    },
    {
      "cell_type": "code",
      "source": [
        "app(labels_letter, sample_image)"
      ],
      "metadata": {
        "id": "iFY8jsnp5hqR"
      },
      "execution_count": null,
      "outputs": []
    },
    {
      "cell_type": "code",
      "source": [
        ""
      ],
      "metadata": {
        "id": "QgPr6yKSpP33"
      },
      "execution_count": null,
      "outputs": []
    }
  ]
}